{
 "cells": [
  {
   "cell_type": "code",
   "execution_count": 4,
   "id": "5d64365e-b795-44cf-99d0-1f494dc7d6c7",
   "metadata": {},
   "outputs": [
    {
     "name": "stdout",
     "output_type": "stream",
     "text": [
      "Requirement already satisfied: jax in /opt/anaconda3/lib/python3.9/site-packages (0.4.1)\n",
      "Requirement already satisfied: jax_unirep in /opt/anaconda3/lib/python3.9/site-packages (2.2.0)\n",
      "Collecting Bio\n",
      "  Downloading bio-1.5.3-py3-none-any.whl (272 kB)\n",
      "\u001b[2K     \u001b[90m━━━━━━━━━━━━━━━━━━━━━━━━━━━━━━━━━━━━━\u001b[0m \u001b[32m272.6/272.6 kB\u001b[0m \u001b[31m281.9 kB/s\u001b[0m eta \u001b[36m0:00:00\u001b[0ma \u001b[36m0:00:01\u001b[0m\n",
      "\u001b[?25hRequirement already satisfied: opt-einsum in /opt/anaconda3/lib/python3.9/site-packages (from jax) (3.3.0)\n",
      "Requirement already satisfied: numpy>=1.20 in /opt/anaconda3/lib/python3.9/site-packages (from jax) (1.21.5)\n",
      "Requirement already satisfied: scipy>=1.5 in /opt/anaconda3/lib/python3.9/site-packages (from jax) (1.8.1)\n",
      "Requirement already satisfied: multipledispatch in /opt/anaconda3/lib/python3.9/site-packages (from jax_unirep) (0.6.0)\n",
      "Requirement already satisfied: tqdm in /opt/anaconda3/lib/python3.9/site-packages (from jax_unirep) (4.64.1)\n",
      "Requirement already satisfied: jaxlib in /opt/anaconda3/lib/python3.9/site-packages (from jax_unirep) (0.4.1)\n",
      "Requirement already satisfied: scikit-learn in /opt/anaconda3/lib/python3.9/site-packages (from jax_unirep) (1.0.2)\n",
      "Requirement already satisfied: optuna in /opt/anaconda3/lib/python3.9/site-packages (from jax_unirep) (3.0.4)\n",
      "Requirement already satisfied: requests in /opt/anaconda3/lib/python3.9/site-packages (from Bio) (2.28.1)\n",
      "Collecting biopython>=1.80\n",
      "  Downloading biopython-1.81-cp39-cp39-macosx_10_9_x86_64.whl (2.7 MB)\n",
      "\u001b[2K     \u001b[90m━━━━━━━━━━━━━━━━━━━━━━━━━━━━━━━━━━━━━━━━\u001b[0m \u001b[32m2.7/2.7 MB\u001b[0m \u001b[31m1.9 MB/s\u001b[0m eta \u001b[36m0:00:00\u001b[0m00:01\u001b[0m00:01\u001b[0m\n",
      "\u001b[?25hCollecting mygene\n",
      "  Downloading mygene-3.2.2-py2.py3-none-any.whl (5.4 kB)\n",
      "Requirement already satisfied: six in /opt/anaconda3/lib/python3.9/site-packages (from multipledispatch->jax_unirep) (1.16.0)\n",
      "Collecting biothings-client>=0.2.6\n",
      "  Downloading biothings_client-0.2.6-py2.py3-none-any.whl (37 kB)\n",
      "Requirement already satisfied: alembic>=1.5.0 in /opt/anaconda3/lib/python3.9/site-packages (from optuna->jax_unirep) (1.8.1)\n",
      "Requirement already satisfied: PyYAML in /opt/anaconda3/lib/python3.9/site-packages (from optuna->jax_unirep) (6.0)\n",
      "Requirement already satisfied: importlib-metadata<5.0.0 in /opt/anaconda3/lib/python3.9/site-packages (from optuna->jax_unirep) (4.11.3)\n",
      "Requirement already satisfied: colorlog in /opt/anaconda3/lib/python3.9/site-packages (from optuna->jax_unirep) (6.7.0)\n",
      "Requirement already satisfied: sqlalchemy>=1.3.0 in /opt/anaconda3/lib/python3.9/site-packages (from optuna->jax_unirep) (1.4.39)\n",
      "Requirement already satisfied: cmaes>=0.8.2 in /opt/anaconda3/lib/python3.9/site-packages (from optuna->jax_unirep) (0.9.0)\n",
      "Requirement already satisfied: cliff in /opt/anaconda3/lib/python3.9/site-packages (from optuna->jax_unirep) (4.1.0)\n",
      "Requirement already satisfied: packaging>=20.0 in /opt/anaconda3/lib/python3.9/site-packages (from optuna->jax_unirep) (21.3)\n",
      "Requirement already satisfied: charset-normalizer<3,>=2 in /opt/anaconda3/lib/python3.9/site-packages (from requests->Bio) (2.0.4)\n",
      "Requirement already satisfied: certifi>=2017.4.17 in /opt/anaconda3/lib/python3.9/site-packages (from requests->Bio) (2022.9.24)\n",
      "Requirement already satisfied: idna<4,>=2.5 in /opt/anaconda3/lib/python3.9/site-packages (from requests->Bio) (3.3)\n",
      "Requirement already satisfied: urllib3<1.27,>=1.21.1 in /opt/anaconda3/lib/python3.9/site-packages (from requests->Bio) (1.26.11)\n",
      "Requirement already satisfied: threadpoolctl>=2.0.0 in /opt/anaconda3/lib/python3.9/site-packages (from scikit-learn->jax_unirep) (2.2.0)\n",
      "Requirement already satisfied: joblib>=0.11 in /opt/anaconda3/lib/python3.9/site-packages (from scikit-learn->jax_unirep) (1.1.0)\n",
      "Requirement already satisfied: Mako in /opt/anaconda3/lib/python3.9/site-packages (from alembic>=1.5.0->optuna->jax_unirep) (1.2.4)\n",
      "Requirement already satisfied: zipp>=0.5 in /opt/anaconda3/lib/python3.9/site-packages (from importlib-metadata<5.0.0->optuna->jax_unirep) (3.8.0)\n",
      "Requirement already satisfied: pyparsing!=3.0.5,>=2.0.2 in /opt/anaconda3/lib/python3.9/site-packages (from packaging>=20.0->optuna->jax_unirep) (3.0.9)\n",
      "Requirement already satisfied: greenlet!=0.4.17 in /opt/anaconda3/lib/python3.9/site-packages (from sqlalchemy>=1.3.0->optuna->jax_unirep) (1.1.1)\n",
      "Requirement already satisfied: autopage>=0.4.0 in /opt/anaconda3/lib/python3.9/site-packages (from cliff->optuna->jax_unirep) (0.5.1)\n",
      "Requirement already satisfied: cmd2>=1.0.0 in /opt/anaconda3/lib/python3.9/site-packages (from cliff->optuna->jax_unirep) (2.4.2)\n",
      "Requirement already satisfied: PrettyTable>=0.7.2 in /opt/anaconda3/lib/python3.9/site-packages (from cliff->optuna->jax_unirep) (3.5.0)\n",
      "Requirement already satisfied: stevedore>=2.0.1 in /opt/anaconda3/lib/python3.9/site-packages (from cliff->optuna->jax_unirep) (4.1.1)\n",
      "Requirement already satisfied: attrs>=16.3.0 in /opt/anaconda3/lib/python3.9/site-packages (from cmd2>=1.0.0->cliff->optuna->jax_unirep) (21.4.0)\n",
      "Requirement already satisfied: wcwidth>=0.1.7 in /opt/anaconda3/lib/python3.9/site-packages (from cmd2>=1.0.0->cliff->optuna->jax_unirep) (0.2.5)\n",
      "Requirement already satisfied: pyperclip>=1.6 in /opt/anaconda3/lib/python3.9/site-packages (from cmd2>=1.0.0->cliff->optuna->jax_unirep) (1.8.2)\n",
      "Requirement already satisfied: pbr!=2.1.0,>=2.0.0 in /opt/anaconda3/lib/python3.9/site-packages (from stevedore>=2.0.1->cliff->optuna->jax_unirep) (5.11.0)\n",
      "Requirement already satisfied: MarkupSafe>=0.9.2 in /opt/anaconda3/lib/python3.9/site-packages (from Mako->alembic>=1.5.0->optuna->jax_unirep) (2.0.1)\n",
      "Installing collected packages: biopython, biothings-client, mygene, Bio\n",
      "Successfully installed Bio-1.5.3 biopython-1.81 biothings-client-0.2.6 mygene-3.2.2\n",
      "Note: you may need to restart the kernel to use updated packages.\n"
     ]
    }
   ],
   "source": [
    "pip install jax jax_unirep Bio"
   ]
  },
  {
   "cell_type": "code",
   "execution_count": 6,
   "id": "2ea8b60e-c080-4df3-a1d1-bc542a68e31e",
   "metadata": {},
   "outputs": [],
   "source": [
    "from pathlib import Path\n",
    "\n",
    "from jax.random import PRNGKey\n",
    "\n",
    "from jax_unirep import evotune\n",
    "from jax_unirep.evotuning_models import mlstm64\n",
    "from jax_unirep.utils import dump_params\n",
    "from Bio import SeqIO"
   ]
  },
  {
   "cell_type": "code",
   "execution_count": 7,
   "id": "607fdd79-c538-40d7-a03d-155affee3d24",
   "metadata": {},
   "outputs": [],
   "source": [
    "# write script that takes the fasta files and converts them to a list of sequences\n",
    "\n",
    "def generate_seqs(filename):\n",
    "    result_list = []\n",
    "    for record in SeqIO.parse(filename, \"fasta\"):\n",
    "        result_list.append(record.seq)\n",
    "    return result_list\n",
    "    \n",
    "# Test sequences:\n",
    "\n",
    "sequences = generate_seqs(\"inputs/trainTest.fasta.txt\")\n",
    "holdout_sequences = generate_seqs(\"inputs/outDomainTest.fasta.txt\")\n",
    "\n",
    "PROJECT_NAME = \"evotuning_EC4211_test\"\n",
    "\n",
    "init_fun, apply_fun = mlstm64()"
   ]
  },
  {
   "cell_type": "code",
   "execution_count": 8,
   "id": "a6c6d075-acff-45b4-8462-179f93154bb2",
   "metadata": {},
   "outputs": [
    {
     "name": "stderr",
     "output_type": "stream",
     "text": [
      "\u001b[32m[I 2023-02-16 06:52:50,409]\u001b[0m A new study created in memory with name: no-name-fd78a78c-d35c-44ca-9e1c-a9fdca2614aa\u001b[0m\n",
      "/Users/JDC/Maverick/AWS_instance_sync/Harvard Model/Evotuning/jax_unirep/evotuning.py:464: FutureWarning: suggest_discrete_uniform has been deprecated in v3.0.0. This feature will be removed in v6.0.0. See https://github.com/optuna/optuna/releases/tag/v3.0.0. Use :func:`~optuna.trial.Trial.suggest_float` instead.\n",
      "  n_epochs = trial.suggest_discrete_uniform(**n_epochs_kwargs)\n",
      "/Users/JDC/Maverick/AWS_instance_sync/Harvard Model/Evotuning/jax_unirep/evotuning.py:465: FutureWarning: suggest_loguniform has been deprecated in v3.0.0. This feature will be removed in v6.0.0. See https://github.com/optuna/optuna/releases/tag/v3.0.0. Use :func:`~optuna.trial.Trial.suggest_float` instead.\n",
      "  learning_rate = trial.suggest_loguniform(**learning_rate_kwargs)\n",
      "/Users/JDC/Maverick/AWS_instance_sync/Harvard Model/Evotuning/jax_unirep/evotuning.py:471: VisibleDeprecationWarning: Creating an ndarray from ragged nested sequences (which is a list-or-tuple of lists-or-tuples-or ndarrays with different lengths or shapes) is deprecated. If you meant to do this, you must specify 'dtype=object' when creating the ndarray.\n",
      "  sequences = onp.array(sequences)\n"
     ]
    },
    {
     "data": {
      "application/vnd.jupyter.widget-view+json": {
       "model_id": "b5f6114cb4d74f7f8e3ff7ccbf530397",
       "version_major": 2,
       "version_minor": 0
      },
      "text/plain": [
       "right-padding sequences:   0%|          | 0/55 [00:00<?, ?it/s]"
      ]
     },
     "metadata": {},
     "output_type": "display_data"
    },
    {
     "data": {
      "application/vnd.jupyter.widget-view+json": {
       "model_id": "d204d108ee7d41ccb43f441e73be509e",
       "version_major": 2,
       "version_minor": 0
      },
      "text/plain": [
       "  0%|          | 0/34 [00:00<?, ?it/s]"
      ]
     },
     "metadata": {},
     "output_type": "display_data"
    },
    {
     "data": {
      "application/vnd.jupyter.widget-view+json": {
       "model_id": "2b5746c4884d4c18a3a5194758dfa824",
       "version_major": 2,
       "version_minor": 0
      },
      "text/plain": [
       "Iteration:   0%|          | 0/2 [00:00<?, ?it/s]"
      ]
     },
     "metadata": {},
     "output_type": "display_data"
    },
    {
     "name": "stderr",
     "output_type": "stream",
     "text": [
      "INFO:evotuning:Calculations for training set:\n",
      "INFO:evotuning:Epoch 0: Estimated average loss: 0.16753651201725006. \n"
     ]
    },
    {
     "name": "stdout",
     "output_type": "stream",
     "text": [
      "created directory at temp\n"
     ]
    },
    {
     "data": {
      "application/vnd.jupyter.widget-view+json": {
       "model_id": "7bc8b9c003e54ccdb65ccf97f0b874a7",
       "version_major": 2,
       "version_minor": 0
      },
      "text/plain": [
       "  0%|          | 0/36 [00:00<?, ?it/s]"
      ]
     },
     "metadata": {},
     "output_type": "display_data"
    },
    {
     "name": "stderr",
     "output_type": "stream",
     "text": [
      "INFO:evotuning:Split #1\n"
     ]
    },
    {
     "data": {
      "application/vnd.jupyter.widget-view+json": {
       "model_id": "e4ed6049d906463aabc8c1e61558abf9",
       "version_major": 2,
       "version_minor": 0
      },
      "text/plain": [
       "right-padding sequences:   0%|          | 0/56 [00:00<?, ?it/s]"
      ]
     },
     "metadata": {},
     "output_type": "display_data"
    },
    {
     "data": {
      "application/vnd.jupyter.widget-view+json": {
       "model_id": "7667e5b97ac14aaaa0cbf0571f5e42db",
       "version_major": 2,
       "version_minor": 0
      },
      "text/plain": [
       "  0%|          | 0/36 [00:00<?, ?it/s]"
      ]
     },
     "metadata": {},
     "output_type": "display_data"
    },
    {
     "name": "stderr",
     "output_type": "stream",
     "text": [
      "INFO:evotuning:Random batching done: All sequences padded to max sequence length of 347\n"
     ]
    },
    {
     "data": {
      "application/vnd.jupyter.widget-view+json": {
       "model_id": "0843139202674895a28a575a62ed3d18",
       "version_major": 2,
       "version_minor": 0
      },
      "text/plain": [
       "Iteration:   0%|          | 0/2 [00:00<?, ?it/s]"
      ]
     },
     "metadata": {},
     "output_type": "display_data"
    },
    {
     "name": "stderr",
     "output_type": "stream",
     "text": [
      "INFO:evotuning:Calculations for training set:\n",
      "INFO:evotuning:Epoch 0: Estimated average loss: 0.1674230843782425. \n"
     ]
    },
    {
     "data": {
      "application/vnd.jupyter.widget-view+json": {
       "model_id": "243b2ed968d449fcb23973f44240e88f",
       "version_major": 2,
       "version_minor": 0
      },
      "text/plain": [
       "  0%|          | 0/34 [00:00<?, ?it/s]"
      ]
     },
     "metadata": {},
     "output_type": "display_data"
    },
    {
     "name": "stderr",
     "output_type": "stream",
     "text": [
      "\u001b[32m[I 2023-02-16 06:54:53,584]\u001b[0m Trial 0 finished with value: 0.16740167140960693 and parameters: {'n_epochs': 1.0, 'learning_rate': 1.0273953524180619e-05}. Best is trial 0 with value: 0.16740167140960693.\u001b[0m\n",
      "INFO:evotuning:Trying out 1.0 epochs with learning rate 0.00033995858343823193.\n",
      "INFO:evotuning:Split #0\n"
     ]
    },
    {
     "data": {
      "application/vnd.jupyter.widget-view+json": {
       "model_id": "ba40013a8fa145e1b7131d00ab4ef10e",
       "version_major": 2,
       "version_minor": 0
      },
      "text/plain": [
       "right-padding sequences:   0%|          | 0/55 [00:00<?, ?it/s]"
      ]
     },
     "metadata": {},
     "output_type": "display_data"
    },
    {
     "data": {
      "application/vnd.jupyter.widget-view+json": {
       "model_id": "209ee0f1cb904c86bf62d8e562ed351e",
       "version_major": 2,
       "version_minor": 0
      },
      "text/plain": [
       "  0%|          | 0/37 [00:00<?, ?it/s]"
      ]
     },
     "metadata": {},
     "output_type": "display_data"
    },
    {
     "name": "stderr",
     "output_type": "stream",
     "text": [
      "INFO:evotuning:Random batching done: All sequences padded to max sequence length of 338\n"
     ]
    },
    {
     "data": {
      "application/vnd.jupyter.widget-view+json": {
       "model_id": "d4fa468575d449d880a776bda32f3da3",
       "version_major": 2,
       "version_minor": 0
      },
      "text/plain": [
       "Iteration:   0%|          | 0/2 [00:00<?, ?it/s]"
      ]
     },
     "metadata": {},
     "output_type": "display_data"
    },
    {
     "name": "stderr",
     "output_type": "stream",
     "text": [
      "INFO:evotuning:Calculations for training set:\n",
      "INFO:evotuning:Epoch 0: Estimated average loss: 0.16726544499397278. \n"
     ]
    },
    {
     "data": {
      "application/vnd.jupyter.widget-view+json": {
       "model_id": "001f2508b1574a3e8daef11db6b03065",
       "version_major": 2,
       "version_minor": 0
      },
      "text/plain": [
       "  0%|          | 0/30 [00:00<?, ?it/s]"
      ]
     },
     "metadata": {},
     "output_type": "display_data"
    },
    {
     "name": "stderr",
     "output_type": "stream",
     "text": [
      "INFO:evotuning:Split #1\n"
     ]
    },
    {
     "data": {
      "application/vnd.jupyter.widget-view+json": {
       "model_id": "779cd6d697d841018b4aeb7da8045717",
       "version_major": 2,
       "version_minor": 0
      },
      "text/plain": [
       "right-padding sequences:   0%|          | 0/56 [00:00<?, ?it/s]"
      ]
     },
     "metadata": {},
     "output_type": "display_data"
    },
    {
     "data": {
      "application/vnd.jupyter.widget-view+json": {
       "model_id": "6f0add544298451e8faea870c88af423",
       "version_major": 2,
       "version_minor": 0
      },
      "text/plain": [
       "  0%|          | 0/30 [00:00<?, ?it/s]"
      ]
     },
     "metadata": {},
     "output_type": "display_data"
    },
    {
     "name": "stderr",
     "output_type": "stream",
     "text": [
      "INFO:evotuning:Random batching done: All sequences padded to max sequence length of 347\n"
     ]
    },
    {
     "data": {
      "application/vnd.jupyter.widget-view+json": {
       "model_id": "1b315d8e094f448babb72c1ebd7815ff",
       "version_major": 2,
       "version_minor": 0
      },
      "text/plain": [
       "Iteration:   0%|          | 0/2 [00:00<?, ?it/s]"
      ]
     },
     "metadata": {},
     "output_type": "display_data"
    },
    {
     "name": "stderr",
     "output_type": "stream",
     "text": [
      "INFO:evotuning:Calculations for training set:\n",
      "INFO:evotuning:Epoch 0: Estimated average loss: 0.16744087636470795. \n"
     ]
    },
    {
     "data": {
      "application/vnd.jupyter.widget-view+json": {
       "model_id": "e462e072428645b9bbb9794eda202bee",
       "version_major": 2,
       "version_minor": 0
      },
      "text/plain": [
       "  0%|          | 0/37 [00:00<?, ?it/s]"
      ]
     },
     "metadata": {},
     "output_type": "display_data"
    },
    {
     "name": "stderr",
     "output_type": "stream",
     "text": [
      "\u001b[32m[I 2023-02-16 06:57:08,347]\u001b[0m Trial 1 finished with value: 0.16737505793571472 and parameters: {'n_epochs': 1.0, 'learning_rate': 0.00033995858343823193}. Best is trial 1 with value: 0.16737505793571472.\u001b[0m\n",
      "INFO:evotuning:Optuna done, starting tuning with learning rate=0.00033995858343823193, \n"
     ]
    },
    {
     "data": {
      "application/vnd.jupyter.widget-view+json": {
       "model_id": "28d65ea59dd34817adbf0a8b63db06c2",
       "version_major": 2,
       "version_minor": 0
      },
      "text/plain": [
       "right-padding sequences:   0%|          | 0/111 [00:00<?, ?it/s]"
      ]
     },
     "metadata": {},
     "output_type": "display_data"
    },
    {
     "data": {
      "application/vnd.jupyter.widget-view+json": {
       "model_id": "83324197ca3b44e090fe0b3914ea2e8d",
       "version_major": 2,
       "version_minor": 0
      },
      "text/plain": [
       "right-padding sequences:   0%|          | 0/78 [00:00<?, ?it/s]"
      ]
     },
     "metadata": {},
     "output_type": "display_data"
    },
    {
     "data": {
      "application/vnd.jupyter.widget-view+json": {
       "model_id": "7203fa9450924a3681ca317193dd8c1d",
       "version_major": 2,
       "version_minor": 0
      },
      "text/plain": [
       "  0%|          | 0/56 [00:00<?, ?it/s]"
      ]
     },
     "metadata": {},
     "output_type": "display_data"
    },
    {
     "data": {
      "application/vnd.jupyter.widget-view+json": {
       "model_id": "6167e3188db347c3a8c417b3f5586061",
       "version_major": 2,
       "version_minor": 0
      },
      "text/plain": [
       "  0%|          | 0/66 [00:00<?, ?it/s]"
      ]
     },
     "metadata": {},
     "output_type": "display_data"
    },
    {
     "name": "stderr",
     "output_type": "stream",
     "text": [
      "INFO:evotuning:Random batching done: All sequences padded to max sequence length of 347\n"
     ]
    },
    {
     "data": {
      "application/vnd.jupyter.widget-view+json": {
       "model_id": "8386f6153da34e87aa45fe95d1c5a1ee",
       "version_major": 2,
       "version_minor": 0
      },
      "text/plain": [
       "Iteration:   0%|          | 0/4 [00:00<?, ?it/s]"
      ]
     },
     "metadata": {},
     "output_type": "display_data"
    },
    {
     "name": "stderr",
     "output_type": "stream",
     "text": [
      "INFO:evotuning:Calculations for training set:\n",
      "INFO:evotuning:Epoch 0: Estimated average loss: 0.16744571924209595. \n",
      "INFO:evotuning:Calculations for holdout set:\n",
      "INFO:evotuning:Epoch 0: Estimated average loss: 0.1674375683069229. \n"
     ]
    },
    {
     "name": "stdout",
     "output_type": "stream",
     "text": [
      "created directory at evotuning_EC4211_test\n",
      "Evotuning done! Find output weights in evotuning_EC4211_test\n",
      "   number     value             datetime_start          datetime_complete  \\\n",
      "0       0  0.167402 2023-02-16 06:52:50.411664 2023-02-16 06:54:53.584510   \n",
      "1       1  0.167375 2023-02-16 06:54:53.585804 2023-02-16 06:57:08.347128   \n",
      "\n",
      "                duration  params_learning_rate  params_n_epochs     state  \n",
      "0 0 days 00:02:03.172846               0.00001              1.0  COMPLETE  \n",
      "1 0 days 00:02:14.761324               0.00034              1.0  COMPLETE  \n"
     ]
    }
   ],
   "source": [
    "# The input_shape is always going to be (-1, 26),\n",
    "# because that is the number of unique AA, one-hot encoded.\n",
    "_, inital_params = init_fun(PRNGKey(42), input_shape=(-1, 26))\n",
    "\n",
    "# 1. Evotuning with Optuna\n",
    "n_epochs_config = {\"low\": 1, \"high\": 1}\n",
    "lr_config = {\"low\": 1e-5, \"high\": 1e-3}\n",
    "study, evotuned_params = evotune(\n",
    "    sequences=sequences,\n",
    "    model_func=apply_fun,\n",
    "    params=inital_params,\n",
    "    out_dom_seqs=holdout_sequences,\n",
    "    n_trials=2,\n",
    "    n_splits=2,\n",
    "    n_epochs_config=n_epochs_config,\n",
    "    learning_rate_config=lr_config,\n",
    ")\n",
    "\n",
    "dump_params(evotuned_params, Path(PROJECT_NAME))\n",
    "print(\"Evotuning done! Find output weights in\", PROJECT_NAME)\n",
    "print(study.trials_dataframe())"
   ]
  },
  {
   "cell_type": "code",
   "execution_count": null,
   "id": "6bd8f369-4589-489b-820a-41f2ebe0241d",
   "metadata": {},
   "outputs": [],
   "source": []
  }
 ],
 "metadata": {
  "kernelspec": {
   "display_name": "Python 3 (ipykernel)",
   "language": "python",
   "name": "python3"
  },
  "language_info": {
   "codemirror_mode": {
    "name": "ipython",
    "version": 3
   },
   "file_extension": ".py",
   "mimetype": "text/x-python",
   "name": "python",
   "nbconvert_exporter": "python",
   "pygments_lexer": "ipython3",
   "version": "3.9.13"
  }
 },
 "nbformat": 4,
 "nbformat_minor": 5
}
