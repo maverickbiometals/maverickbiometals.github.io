{
 "cells": [
  {
   "cell_type": "markdown",
   "metadata": {},
   "source": [
    "# Generate Inputs for Evotuning eUniRep\n",
    "\n",
    "1. Get input FASTA files from doing PFAM search on wild type protein, then downloading related clans on InterPro. In this case the wild type protein was isPETase, and the PFAM clans downloaded were DLH, cutinases, and lipases. DLH was the best match clan, cutinases and lipases were chosen as they were clans within the same family (A/B fold hydrolases). Out of the 70 clans in the family those 2 were chosen as they are specificially referenced several times across PETase engineering literature.\n",
    "\n",
    "2. Clean the inputs by removing sequences with non-standard residues, anything with length greater than k (in this case k = 600), remove duplicate sequences.\n",
    "\n",
    "3. Calculate levenstein distances from highly desired mutant (i.e. duraPETase) on all clean sequences.\n",
    "\n",
    "4. Generate training, in_domain validation and out_domain validation sets. out_domain validation set is generated first uusing a distribution proportional to distances^4 - taking 10% of the total sequences. Then 10% of the total (11.1% of the remainder) is taken for the in_domain validation set, with the remaining 80% of original = the training set.\n",
    "\n",
    "5. Convert resulting split set of sequences into input format required by UniRep and output to a .fasta.txt file "
   ]
  },
  {
   "cell_type": "code",
   "execution_count": 4,
   "metadata": {},
   "outputs": [
    {
     "name": "stdout",
     "output_type": "stream",
     "text": [
      "Requirement already satisfied: Bio in /opt/tensorflow/lib/python3.10/site-packages (1.5.3)\n",
      "Collecting Levenshtein\n",
      "  Downloading Levenshtein-0.20.9-cp310-cp310-manylinux_2_17_x86_64.manylinux2014_x86_64.whl (174 kB)\n",
      "\u001b[2K     \u001b[90m━━━━━━━━━━━━━━━━━━━━━━━━━━━━━━━━━━━━━━━\u001b[0m \u001b[32m174.1/174.1 kB\u001b[0m \u001b[31m5.0 MB/s\u001b[0m eta \u001b[36m0:00:00\u001b[0m\n",
      "\u001b[?25hRequirement already satisfied: mygene in /opt/tensorflow/lib/python3.10/site-packages (from Bio) (3.2.2)\n",
      "Requirement already satisfied: requests in /opt/tensorflow/lib/python3.10/site-packages (from Bio) (2.28.1)\n",
      "Requirement already satisfied: biopython>=1.80 in /opt/tensorflow/lib/python3.10/site-packages (from Bio) (1.80)\n",
      "Requirement already satisfied: tqdm in /opt/tensorflow/lib/python3.10/site-packages (from Bio) (4.64.1)\n",
      "Collecting rapidfuzz<3.0.0,>=2.3.0\n",
      "  Downloading rapidfuzz-2.13.7-cp310-cp310-manylinux_2_17_x86_64.manylinux2014_x86_64.whl (2.2 MB)\n",
      "\u001b[2K     \u001b[90m━━━━━━━━━━━━━━━━━━━━━━━━━━━━━━━━━━━━━━━━\u001b[0m \u001b[32m2.2/2.2 MB\u001b[0m \u001b[31m7.7 MB/s\u001b[0m eta \u001b[36m0:00:00\u001b[0m:00:01\u001b[0m00:01\u001b[0m\n",
      "\u001b[?25hRequirement already satisfied: numpy in /opt/tensorflow/lib/python3.10/site-packages (from biopython>=1.80->Bio) (1.23.5)\n",
      "Requirement already satisfied: biothings-client>=0.2.6 in /opt/tensorflow/lib/python3.10/site-packages (from mygene->Bio) (0.2.6)\n",
      "Requirement already satisfied: certifi>=2017.4.17 in /opt/tensorflow/lib/python3.10/site-packages (from requests->Bio) (2022.12.7)\n",
      "Requirement already satisfied: urllib3<1.27,>=1.21.1 in /opt/tensorflow/lib/python3.10/site-packages (from requests->Bio) (1.26.13)\n",
      "Requirement already satisfied: charset-normalizer<3,>=2 in /opt/tensorflow/lib/python3.10/site-packages (from requests->Bio) (2.1.1)\n",
      "Requirement already satisfied: idna<4,>=2.5 in /opt/tensorflow/lib/python3.10/site-packages (from requests->Bio) (3.4)\n",
      "Installing collected packages: rapidfuzz, Levenshtein\n",
      "Successfully installed Levenshtein-0.20.9 rapidfuzz-2.13.7\n",
      "Note: you may need to restart the kernel to use updated packages.\n"
     ]
    }
   ],
   "source": [
    "pip install Bio Levenshtein"
   ]
  },
  {
   "cell_type": "code",
   "execution_count": 5,
   "metadata": {
    "tags": []
   },
   "outputs": [],
   "source": [
    "from Bio import SeqIO\n",
    "import pandas as pd\n",
    "import re\n",
    "from Levenshtein import distance\n",
    "import numpy as np\n",
    "import matplotlib.pyplot as plt"
   ]
  },
  {
   "cell_type": "code",
   "execution_count": 7,
   "metadata": {
    "tags": []
   },
   "outputs": [],
   "source": [
    "# Functions:\n",
    "\n",
    "# read FASTA file:\n",
    "# input: file name\n",
    "# output: names and sequences in the file as an array of dim-2 arrays [name, sequence].\n",
    "def read_fasta(name):\n",
    "    fasta_seqs = SeqIO.parse(open('inputs/' + name + '.fasta.txt'),'fasta')\n",
    "    data = []\n",
    "    for fasta in fasta_seqs:\n",
    "        data.append([fasta.id, str(fasta.seq).strip()])\n",
    "    \n",
    "    return data\n",
    "\n",
    "\n",
    "# write FASTA file:\n",
    "# input: file name; df to write\n",
    "def write_fasta(name, seqs_df):\n",
    "    out_file = open('outputs/' + name + '.fasta.txt', \"w\")\n",
    "    for i in range(len(seqs_df)):\n",
    "        out_file.write('>' + seqs_df.name[i] + '\\n')\n",
    "        out_file.write(seqs_df.sequence[i] + '\\n')\n",
    "    out_file.close()\n",
    "\n",
    "\n",
    "# input: takes in a sequence\n",
    "# output: True if a sequence contains only standard amino acids, returns False if contains non-standard ones.\n",
    "def validate(seq, pattern=re.compile(r'^[FIWLVMYCATHGSQRKNEPD]+$')):\n",
    "    if (pattern.match(seq)):\n",
    "        return True\n",
    "    return False\n",
    "\n",
    "    \n",
    "# Remove sequences longer than k residues and with non-standard residues\n",
    "# inputs: seqs_df = dataframe of name, sequence; k = max lenght of residues to keep\n",
    "# output: cleaned dataframe\n",
    "def clean(seqs_df, k):\n",
    "    # remove sequences with length > 1000 AA's\n",
    "    rows2drop = []\n",
    "    for i in range(len(seqs_df)):\n",
    "        if (len(seqs_df.sequence[i]) > k):\n",
    "            rows2drop.append(i)\n",
    "\n",
    "    print('Total number of sequences dropped:', len(rows2drop))\n",
    "\n",
    "    seqs_df = seqs_df.drop(rows2drop).reset_index().drop('index', axis=1)\n",
    "\n",
    "    print('Total number of sequences remaining:', len(seqs_df))\n",
    "    \n",
    "    # remove sequences with invalid AA residues\n",
    "    # valid_alphabet = ['F','I','W','L','V','M','Y','C','A','T','H','G','S','Q','R','K','N','E','P','D']\n",
    "    invalid_seqs = []\n",
    "\n",
    "    for i in range(len(seqs_df)):\n",
    "        if (not validate(seqs_df.sequence[i])):\n",
    "            invalid_seqs.append(i)\n",
    "\n",
    "    print('Total number of sequences dropped:', len(invalid_seqs))\n",
    "\n",
    "    seqs_df = seqs_df.drop(invalid_seqs).reset_index().drop('index', axis=1)\n",
    "\n",
    "    print('Total number of sequences remaining:', len(seqs_df))\n",
    "    \n",
    "    \n",
    "    seqs_df = seqs_df.drop_duplicates(subset='sequence').reset_index().drop('index', axis=1)\n",
    "\n",
    "    print('Total sequences remaining after duplicate removal', len(seqs_df))\n",
    "\n",
    "    \n",
    "    return seqs_df\n",
    "\n",
    "\n",
    "# calculate the Levenstein distance of mulitple sequences to a target sequence\n",
    "# also plots a histogram of distances\n",
    "# inputs: t_seq = target sequence; seqs_df = dataframe of sequences;\n",
    "# num_bins = bins for histogram; hist_range = range for histogram\n",
    "# outputs: numpy array of distances\n",
    "def lev_dist(t_seq, seqs_df, num_bins=20, hist_range=(0,350)):\n",
    "    distances = []\n",
    "    for i in range(len(seqs_df)):\n",
    "        distances.append(distance(t_seq, seqs_df.sequence[i]))\n",
    "    distances = np.array(distances)\n",
    "\n",
    "    mean_dist = np.mean(distances)\n",
    "    median_dist = np.median(distances)\n",
    "    min_dist = np.min(distances)\n",
    "    max_dist = np.max(distances)\n",
    "    \n",
    "    print(\"Mean Levenstein distance:\", mean_dist)\n",
    "    print(\"Median Levenstein distance:\", mean_dist)\n",
    "    print(\"Min Levenstein distance:\", min_dist)\n",
    "    print(\"Max Levenstein distance:\", max_dist)\n",
    "\n",
    "    \n",
    "    # histogram of Levenstein distances from target sequence\n",
    "    plt.clf()\n",
    "    plt.hist(distances, bins=num_bins, range=hist_range)\n",
    "    plt.show()\n",
    "    \n",
    "    return distances\n",
    "\n",
    "\n",
    "\n",
    "\"\"\"\n",
    "File formatting note.\n",
    "Data should be preprocessed as a sequence of comma-seperated ints with\n",
    "sequences  /n seperated\n",
    "\"\"\"\n",
    "\n",
    "# Lookup tables\n",
    "aa_to_int = {\n",
    "    'M':1,\n",
    "    'R':2,\n",
    "    'H':3,\n",
    "    'K':4,\n",
    "    'D':5,\n",
    "    'E':6,\n",
    "    'S':7,\n",
    "    'T':8,\n",
    "    'N':9,\n",
    "    'Q':10,\n",
    "    'C':11,\n",
    "    'U':12,\n",
    "    'G':13,\n",
    "    'P':14,\n",
    "    'A':15,\n",
    "    'V':16,\n",
    "    'I':17,\n",
    "    'F':18,\n",
    "    'Y':19,\n",
    "    'W':20,\n",
    "    'L':21,\n",
    "    'O':22, #Pyrrolysine\n",
    "    'X':23, # Unknown\n",
    "    'Z':23, # Glutamic acid or GLutamine\n",
    "    'B':23, # Asparagine or aspartic acid\n",
    "    'J':23, # Leucine or isoleucine\n",
    "    'start':24,\n",
    "    'stop':25,\n",
    "}\n",
    "\n",
    "int_to_aa = {value:key for key, value in aa_to_int.items()}\n",
    "\n",
    "def get_aa_to_int():\n",
    "    \"\"\"\n",
    "    Get the lookup table (for easy import)\n",
    "    \"\"\"\n",
    "    return aa_to_int\n",
    "\n",
    "def get_int_to_aa():\n",
    "    \"\"\"\n",
    "    Get the lookup table (for easy import)\n",
    "    \"\"\"\n",
    "    return int_to_aa\n",
    "    \n",
    "def aa_seq_to_int(s):\n",
    "    \"\"\"\n",
    "    Return the int sequence as a list for a given string of amino acids\n",
    "    \"\"\"\n",
    "    return [24] + [aa_to_int[a] for a in s] + [25]\n",
    "\n",
    "def int_seq_to_aa(s):\n",
    "    \"\"\"\n",
    "    Return the int sequence as a list for a given string of amino acids\n",
    "    \"\"\"\n",
    "    return \"\".join([int_to_aa[i] for i in s])\n",
    "\n",
    "    \n",
    "def format_seq(seq,stop=False):\n",
    "    \"\"\"\n",
    "    Takes an amino acid sequence, returns a list of integers in the codex of the babbler.\n",
    "    Here, the default is to strip the stop symbol (stop=False) which would have \n",
    "    otherwise been added to the end of the sequence. If you are trying to generate\n",
    "    a rep, do not include the stop. It is probably best to ignore the stop if you are\n",
    "    co-tuning the babbler and a top model as well.\n",
    "    \"\"\"\n",
    "    if stop:\n",
    "        int_seq = aa_seq_to_int(seq.strip())\n",
    "    else:\n",
    "        int_seq = aa_seq_to_int(seq.strip())[:-1]\n",
    "    return int_seq\n",
    "\n",
    "def is_valid_seq(seq, max_len=2000):\n",
    "    \"\"\"\n",
    "    True if seq is valid for the babbler, False otherwise.\n",
    "    \"\"\"\n",
    "    l = len(seq)\n",
    "    valid_aas = \"MRHKDESTNQCUGPAVIFYWLO\"\n",
    "    if (l < max_len) and set(seq) <= set(valid_aas):\n",
    "        return True\n",
    "    else:\n",
    "        return False\n",
    "\n",
    "def fasta_to_input(in_path):\n",
    "    source = SeqIO.parse(in_path + '.fasta.txt','fasta')\n",
    "    with open(in_path + \"_formatted.fasta.txt\", \"w\") as destination:\n",
    "        for seq in fasta_seqs:\n",
    "            seq = seq.strip()\n",
    "            if is_valid_seq(seq) and len(seq) < 275: \n",
    "                formatted = \",\".join(map(str,format_seq(seq)))\n",
    "                destination.write(formatted)\n",
    "                destination.write('\\n')\n",
    "\n",
    "def seqs_to_input(name, in_seqs, stop=False):\n",
    "    with open('outputs/' + name + \"_formatted.fasta.txt\", \"w\") as destination:\n",
    "        for seq in in_seqs:\n",
    "            seq = seq.strip()\n",
    "            if is_valid_seq(seq): \n",
    "                formatted = \",\".join(map(str,format_seq(seq, stop=stop)))\n",
    "                destination.write(formatted)\n",
    "                destination.write('\\n')\n"
   ]
  },
  {
   "cell_type": "code",
   "execution_count": 11,
   "metadata": {},
   "outputs": [
    {
     "name": "stdout",
     "output_type": "stream",
     "text": [
      "Total number of input sequences: 58798\n",
      "Total number of sequences dropped: 4310\n",
      "Total number of sequences remaining: 54488\n",
      "Total number of sequences dropped: 327\n",
      "Total number of sequences remaining: 54161\n",
      "Total sequences remaining after duplicate removal 47043\n"
     ]
    }
   ],
   "source": [
    "# input FASTA files:\n",
    "in_fasta_1 = 'EC4211_UniProt'\n",
    "\n",
    "# put sequences into a pandas dataframes\n",
    "sequences_1_df = pd.DataFrame(read_fasta(in_fasta_1), columns = ['name', 'sequence'])\n",
    "\n",
    "# concatinate the dataframes vertically (i.e. stack them)\n",
    "sequences_df = pd.concat([sequences_1_df], axis=0).reset_index().drop('index', axis=1)\n",
    "\n",
    "print('Total number of input sequences:', len(sequences_df))\n",
    "\n",
    "# clean the sequences:\n",
    "# the number here is the AA length we want - set to 600 as that was what was used for TEM-1\n",
    "clean_seqs_df = clean(sequences_df, 350)\n",
    "\n",
    "# save clean sequences as a .fasta.txt file\n",
    "write_fasta('all_sequences_clean', clean_seqs_df)"
   ]
  },
  {
   "cell_type": "code",
   "execution_count": 16,
   "metadata": {},
   "outputs": [
    {
     "name": "stdout",
     "output_type": "stream",
     "text": [
      "[['gamma', 'MMFNKQIFTILILSLSLALAGSGCISEGAEDNVAQEITVDEFSNIRENPVTPWNPEPSAPVIDPTAYIDPQASVIGEVTIGANVMVSPMASIRSDEGMPIFVGDRSNVQDGVVLHALETINEEGEPIEDNIVEVDGKEYAVYIGNNVSLAHQSQVHGPAAVGDDTFIGMQAFVFKSKVGNNCVLEPRSAAIGVTIPDGRYIPAGMVVTSQAEADKLPEVTDDYAYSHTNEAVVYVNVHLAEGYKETS']]\n",
      "gamma\n",
      "MMFNKQIFTILILSLSLALAGSGCISEGAEDNVAQEITVDEFSNIRENPVTPWNPEPSAPVIDPTAYIDPQASVIGEVTIGANVMVSPMASIRSDEGMPIFVGDRSNVQDGVVLHALETINEEGEPIEDNIVEVDGKEYAVYIGNNVSLAHQSQVHGPAAVGDDTFIGMQAFVFKSKVGNNCVLEPRSAAIGVTIPDGRYIPAGMVVTSQAEADKLPEVTDDYAYSHTNEAVVYVNVHLAEGYKETS\n"
     ]
    }
   ],
   "source": [
    "# load target sequence\n",
    "target_fasta = 'gammaCarbonicAnhydrase'\n",
    "targets = read_fasta(target_fasta)\n",
    "print(targets)\n",
    "print(targets[0][0])\n",
    "print(targets[0][1])\n"
   ]
  },
  {
   "cell_type": "code",
   "execution_count": 17,
   "metadata": {},
   "outputs": [
    {
     "name": "stdout",
     "output_type": "stream",
     "text": [
      "Mean Levenstein distance: 207.91892523861148\n",
      "Median Levenstein distance: 207.91892523861148\n",
      "Min Levenstein distance: 0\n",
      "Max Levenstein distance: 282\n"
     ]
    },
    {
     "data": {
      "image/png": "[encoded data removed]",
      "text/plain": [
       "<Figure size 640x480 with 1 Axes>"
      ]
     },
     "metadata": {},
     "output_type": "display_data"
    }
   ],
   "source": [
    "# calculate levenstein distance from chosen target sequence\n",
    "distances = lev_dist(targets[0][1], clean_seqs_df, 30, (0,500))"
   ]
  },
  {
   "cell_type": "code",
   "execution_count": 18,
   "metadata": {
    "tags": []
   },
   "outputs": [],
   "source": [
    "# partition into the training and 2 validation sets:\n",
    "\n",
    "clean_seqs_df_copy = clean_seqs_df.copy()\n",
    "out_domain_val_set = clean_seqs_df_copy.sample(frac=0.1, weights=distances**4, random_state=17)\n",
    "remainder_df = clean_seqs_df_copy.drop(out_domain_val_set.index)\n",
    "#train_set = remainder_df.sample(frac=0.889, random_state=17)\n",
    "#in_domain_val_set = remainder_df.drop(train_set.index)\n"
   ]
  },
  {
   "cell_type": "code",
   "execution_count": 19,
   "metadata": {},
   "outputs": [
    {
     "name": "stdout",
     "output_type": "stream",
     "text": [
      "Out of domain validation set size: 4704\n",
      "Training set size: 42339\n"
     ]
    }
   ],
   "source": [
    "# set check sizes\n",
    "print('Out of domain validation set size:', len(out_domain_val_set))\n",
    "#print('In domain validation set size:', len(in_domain_val_set))\n",
    "print('Training set size:', len(remainder_df))"
   ]
  },
  {
   "cell_type": "code",
   "execution_count": 20,
   "metadata": {
    "tags": []
   },
   "outputs": [],
   "source": [
    "# save to fasta file formats:\n",
    "\n",
    "write_fasta('train_set', remainder_df.reset_index().drop('index', axis=1))\n",
    "write_fasta('out_domain_val_set', out_domain_val_set.reset_index().drop('index', axis=1))\n",
    "#write_fasta('in_domain_val_set', in_domain_val_set.reset_index().drop('index', axis=1))\n"
   ]
  },
  {
   "cell_type": "code",
   "execution_count": 21,
   "metadata": {
    "tags": []
   },
   "outputs": [],
   "source": [
    "# UNUSED - AS SWITCHED TO JAX.\n",
    "# convert to input representation needed by eUniRep and output as fasta text files\n",
    "\n",
    "#seqs_to_input('train_set', train_set.sequence, stop=True)\n",
    "#seqs_to_input('out_domain_val_set', out_domain_val_set.sequence, stop=True)\n",
    "#seqs_to_input('in_domain_val_set', in_domain_val_set.sequence, stop=True)"
   ]
  },
  {
   "cell_type": "code",
   "execution_count": null,
   "metadata": {},
   "outputs": [],
   "source": []
  }
 ],
 "metadata": {
  "kernelspec": {
   "display_name": "Python 3 (ipykernel)",
   "language": "python",
   "name": "python3"
  },
  "language_info": {
   "codemirror_mode": {
    "name": "ipython",
    "version": 3
   },
   "file_extension": ".py",
   "mimetype": "text/x-python",
   "name": "python",
   "nbconvert_exporter": "python",
   "pygments_lexer": "ipython3",
   "version": "3.10.7"
  }
 },
 "nbformat": 4,
 "nbformat_minor": 4
}
